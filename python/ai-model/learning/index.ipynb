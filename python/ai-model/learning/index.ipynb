{
 "cells": [
  {
   "cell_type": "markdown",
   "metadata": {},
   "source": [
    "# AI Model Project\n",
    "**Analyzing the client score**\n",
    "\n",
    "*This is a testing and basic data analysis project, being the basis for any more complex project.*\n",
    "\n",
    "---"
   ]
  },
  {
   "cell_type": "markdown",
   "metadata": {},
   "source": [
    "* **Import Client Data**"
   ]
  },
  {
   "cell_type": "code",
   "execution_count": null,
   "metadata": {},
   "outputs": [],
   "source": [
    "import pandas as pd\n",
    "\n",
    "table = pd.read_csv('./data/clientes.csv')\n",
    "display(table)"
   ]
  },
  {
   "cell_type": "markdown",
   "metadata": {},
   "source": [
    "* **Data Preprocessing**"
   ]
  },
  {
   "cell_type": "code",
   "execution_count": null,
   "metadata": {},
   "outputs": [],
   "source": [
    "from sklearn.preprocessing import LabelEncoder\n",
    "\n",
    "encoder = LabelEncoder()\n",
    "\n",
    "print(table.info())\n",
    "\n",
    "# encode non numeric columns\n",
    "for column in table.columns:\n",
    "   if(table[column].dtype == 'object' and column != 'score_credito'):\n",
    "      table[column] = encoder.fit_transform(table[column])\n",
    "        \n",
    "display(table)\n"
   ]
  },
  {
   "cell_type": "markdown",
   "metadata": {},
   "source": [
    "* **Get Data for Training Model**"
   ]
  },
  {
   "cell_type": "code",
   "execution_count": null,
   "metadata": {},
   "outputs": [],
   "source": [
    "from sklearn.model_selection import train_test_split\n",
    "\n",
    "# x -> train\n",
    "x = table.drop(['id_cliente', 'score_credito', 'mes'], axis=1)\n",
    "# y -> predict\n",
    "y = table['score_credito']\n",
    "\n",
    "x_train, x_test, y_train, y_test = train_test_split(x, y, test_size=0.3, random_state=1)"
   ]
  },
  {
   "cell_type": "markdown",
   "metadata": {},
   "source": [
    "* **Train Model**"
   ]
  },
  {
   "cell_type": "code",
   "execution_count": null,
   "metadata": {},
   "outputs": [],
   "source": [
    "from sklearn.ensemble import RandomForestClassifier\n",
    "from sklearn.neighbors import KNeighborsClassifier\n",
    "\n",
    "# AI models\n",
    "treeModel = RandomForestClassifier() \n",
    "knnModel = KNeighborsClassifier()\n",
    "\n",
    "# train models\n",
    "treeModel.fit(x_train, y_train)\n",
    "knnModel.fit(x_train, y_train)"
   ]
  },
  {
   "cell_type": "markdown",
   "metadata": {},
   "source": [
    "* **Use Model**"
   ]
  },
  {
   "cell_type": "code",
   "execution_count": null,
   "metadata": {},
   "outputs": [],
   "source": [
    "# test fixed predict\n",
    "scores = table['score_credito'].value_counts()\n",
    "print(scores)\n",
    "\n",
    "from sklearn.metrics import accuracy_score\n",
    "\n",
    "tree_predict = treeModel.predict(x_test)\n",
    "knn_predict  = knnModel.predict(x_test.to_numpy())\n",
    "\n",
    "print(accuracy_score(y_test, tree_predict))\n",
    "print(accuracy_score(y_test, knn_predict))"
   ]
  },
  {
   "cell_type": "markdown",
   "metadata": {},
   "source": [
    "* **Defining Columns Importance**"
   ]
  },
  {
   "cell_type": "code",
   "execution_count": null,
   "metadata": {},
   "outputs": [],
   "source": [
    "columns = list(x_test.columns)\n",
    "importance = (pd.DataFrame(data=treeModel.feature_importances_, index=columns)) * 100\n",
    "print(importance)"
   ]
  },
  {
   "cell_type": "markdown",
   "metadata": {},
   "source": [
    "* **New Model Based on Columns Importance**"
   ]
  },
  {
   "cell_type": "code",
   "execution_count": null,
   "metadata": {},
   "outputs": [],
   "source": [
    "toDrop: str = ['id_cliente', 'mes', 'score_credito']\n",
    "for key, row in importance[0].items():\n",
    "   if(row < 2):\n",
    "      toDrop.extend([key])\n",
    "\n",
    "\n",
    "x = table.drop(toDrop, axis=1)\n",
    "y = table['score_credito']\n",
    "\n",
    "\n",
    "x_train, x_test, y_train, y_test = train_test_split(x, y, test_size=0.3, random_state=1)\n",
    "\n",
    "\n",
    "treeModel.fit(x_train, y_train)\n",
    "knnModel.fit(x_train, y_train)\n",
    "\n",
    "tree_predict = treeModel.predict(x_test)\n",
    "knn_predict  = knnModel.predict(x_test.to_numpy())\n",
    "\n",
    "print(accuracy_score(y_test, tree_predict))\n",
    "print(accuracy_score(y_test, knn_predict))"
   ]
  },
  {
   "cell_type": "markdown",
   "metadata": {},
   "source": [
    "* **Use Model for new Clients**"
   ]
  },
  {
   "cell_type": "code",
   "execution_count": null,
   "metadata": {},
   "outputs": [],
   "source": [
    "new_clients = pd.read_csv('./data/clientes.csv')\n",
    "\n",
    "x = new_clients.drop(toDrop, axis=1)\n",
    "for c in x.columns:\n",
    "   if(x[c].dtype == 'object' and c != 'score_credito'):\n",
    "      x[c] = encoder.fit_transform(x[c])\n",
    "\n",
    "y = new_clients['score_credito']\n",
    "\n",
    "tree_predict = treeModel.predict(x)\n",
    "knn_predict  = knnModel.predict(x.to_numpy())\n",
    "\n",
    "display(tree_predict)\n",
    "display(knn_predict)"
   ]
  },
  {
   "cell_type": "markdown",
   "metadata": {},
   "source": [
    "* **Set score with AI model**"
   ]
  },
  {
   "cell_type": "code",
   "execution_count": null,
   "metadata": {},
   "outputs": [],
   "source": [
    "for c in new_clients.columns:\n",
    "   if(c == 'score_credito'):\n",
    "      i = 0\n",
    "      for score in new_clients[c]:\n",
    "         new_clients[c][i] = tree_predict[i]\n",
    "         i = i+1"
   ]
  },
  {
   "cell_type": "code",
   "execution_count": null,
   "metadata": {},
   "outputs": [],
   "source": [
    "display(new_clients)"
   ]
  }
 ],
 "metadata": {
  "kernelspec": {
   "display_name": "Python 3",
   "language": "python",
   "name": "python3"
  },
  "language_info": {
   "codemirror_mode": {
    "name": "ipython",
    "version": 3
   },
   "file_extension": ".py",
   "mimetype": "text/x-python",
   "name": "python",
   "nbconvert_exporter": "python",
   "pygments_lexer": "ipython3",
   "version": "3.11.5"
  },
  "orig_nbformat": 4
 },
 "nbformat": 4,
 "nbformat_minor": 2
}
