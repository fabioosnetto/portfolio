{
 "cells": [
  {
   "cell_type": "markdown",
   "metadata": {},
   "source": []
  },
  {
   "cell_type": "code",
   "execution_count": null,
   "metadata": {},
   "outputs": [],
   "source": [
    "import pandas as pd\n",
    "\n",
    "table = pd.read_csv('C:/Users/ADM/AppData/Roaming/MetaQuotes/Tester/D0E8209F77C8CF37AD8BF550E51FF075/Agent-127.0.0.1-3000/MQL5/Files/data.csv')\n",
    "table = table.drop(['ID', 'type', 'mma20p', 'mma20d', 'mma200p', 'mma200d', 'cGain', 'cLoss'], axis=1)\n",
    "display(table)"
   ]
  },
  {
   "cell_type": "code",
   "execution_count": null,
   "metadata": {},
   "outputs": [],
   "source": [
    "from sklearn.preprocessing import LabelEncoder\n",
    "\n",
    "encoder = LabelEncoder()\n",
    "\n",
    "for c in table.columns:\n",
    "   if (table[c].dtype == 'object' and c != 'result'):\n",
    "      table[c] = encoder.fit_transform(c)\n",
    "\n",
    "print(table.info())\n",
    "display(table)"
   ]
  },
  {
   "cell_type": "code",
   "execution_count": null,
   "metadata": {},
   "outputs": [],
   "source": [
    "from sklearn.model_selection import train_test_split\n",
    "\n",
    "x = table.drop(['result'], axis=1)\n",
    "y = table['result']\n",
    "\n",
    "x_train, x_test, y_train, y_test = train_test_split(x, y, test_size=0.3, random_state=1)"
   ]
  },
  {
   "cell_type": "code",
   "execution_count": null,
   "metadata": {},
   "outputs": [],
   "source": [
    "from sklearn.ensemble import RandomForestClassifier\n",
    "from sklearn.neighbors import KNeighborsClassifier\n",
    "\n",
    "treeModel = RandomForestClassifier()\n",
    "knnModel  = KNeighborsClassifier()\n",
    "\n",
    "treeModel.fit(x_train, y_train)\n",
    "knnModel.fit(x_train, y_train)\n"
   ]
  },
  {
   "cell_type": "code",
   "execution_count": null,
   "metadata": {},
   "outputs": [],
   "source": [
    "result = table['result'].value_counts()\n",
    "print(result)\n",
    "\n",
    "from sklearn.metrics import accuracy_score\n",
    "\n",
    "treePredict = treeModel.predict(x_test)\n",
    "knnPredict  = knnModel.predict(x_test.to_numpy())\n",
    "\n",
    "print(accuracy_score(y_test, treePredict))\n",
    "print(accuracy_score(y_test, knnPredict))"
   ]
  },
  {
   "cell_type": "code",
   "execution_count": null,
   "metadata": {},
   "outputs": [],
   "source": [
    "columns = list(x_test.columns)\n",
    "importance = (pd.DataFrame(data=treeModel.feature_importances_, index=columns)) * 100\n",
    "print(importance)"
   ]
  }
 ],
 "metadata": {
  "kernelspec": {
   "display_name": "Python 3",
   "language": "python",
   "name": "python3"
  },
  "language_info": {
   "codemirror_mode": {
    "name": "ipython",
    "version": 3
   },
   "file_extension": ".py",
   "mimetype": "text/x-python",
   "name": "python",
   "nbconvert_exporter": "python",
   "pygments_lexer": "ipython3",
   "version": "3.11.5"
  },
  "orig_nbformat": 4
 },
 "nbformat": 4,
 "nbformat_minor": 2
}
