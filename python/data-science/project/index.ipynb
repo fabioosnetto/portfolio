{
 "cells": [
  {
   "cell_type": "markdown",
   "metadata": {},
   "source": [
    "# Trading Analysis\n",
    "---\n",
    "\n",
    "*Consider using virtual machine*\n",
    "\n",
    "**Table Columns for being used**  \n",
    "* Up to / lower to previous day closing\n",
    "* **MMA direction**\n",
    "   * Daily (from first candle of day)\n",
    "   * 20\n",
    "   * 200\n",
    "* **Candle Closing relative MMA**\n",
    "   * Daily (from first candle of day)\n",
    "   * 20\n",
    "   * 200\n",
    "* IFR\n",
    "* Volume\n",
    "* TP / SL \n",
    "* positive candles\n",
    "* negative candles\n",
    "* Consecutive sucessfuly trades\n",
    "* Consecutive fails trades\n",
    "* result \n"
   ]
  },
  {
   "cell_type": "code",
   "execution_count": null,
   "metadata": {},
   "outputs": [],
   "source": [
    "import pandas as pd\n",
    "\n",
    "table = pd.read_csv('C:/Users/ADM/AppData/Roaming/MetaQuotes/Tester/D0E8209F77C8CF37AD8BF550E51FF075/Agent-127.0.0.1-3000/MQL5/Files/data.csv')\n",
    "\n",
    "table = table.drop(['ID', 'type'], axis=1)\n",
    "display(table)"
   ]
  },
  {
   "cell_type": "code",
   "execution_count": null,
   "metadata": {},
   "outputs": [],
   "source": [
    "display(table['result'].value_counts(normalize=True).map('{:.2%}'.format))\n",
    "display(table.groupby('dayClose').mean(numeric_only=True))"
   ]
  },
  {
   "cell_type": "code",
   "execution_count": null,
   "metadata": {},
   "outputs": [],
   "source": [
    "import plotly.express as px\n",
    "\n",
    "for c in table.columns:\n",
    "   chart = px.histogram(table, x=c, color='result', width=600)\n",
    "   chart.show()"
   ]
  },
  {
   "cell_type": "code",
   "execution_count": null,
   "metadata": {},
   "outputs": [],
   "source": [
    "table = table[table['mma20d'] == 0]\n",
    "table = table[table['mma20p'] == 0]\n",
    "table = table[table['mma200p'] == 0]\n",
    "table = table[table['dayClose'] == 0]\n",
    "\n",
    "display(table['result'].value_counts(normalize=True).map('{:.2%}'.format))\n",
    "#chart = px.histogram(table, x='ifr', color='result', width=600)\n",
    "#chart.show()\n",
    "for c in table.columns:\n",
    "   chart = px.histogram(table, x=c, color='result', width=600)\n",
    "   chart.show()"
   ]
  }
 ],
 "metadata": {
  "kernelspec": {
   "display_name": "Python 3",
   "language": "python",
   "name": "python3"
  },
  "language_info": {
   "codemirror_mode": {
    "name": "ipython",
    "version": 3
   },
   "file_extension": ".py",
   "mimetype": "text/x-python",
   "name": "python",
   "nbconvert_exporter": "python",
   "pygments_lexer": "ipython3",
   "version": "3.11.5"
  },
  "orig_nbformat": 4
 },
 "nbformat": 4,
 "nbformat_minor": 2
}
